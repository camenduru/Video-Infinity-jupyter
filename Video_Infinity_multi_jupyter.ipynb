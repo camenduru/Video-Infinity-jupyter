{
  "cells": [
    {
      "cell_type": "markdown",
      "metadata": {
        "id": "view-in-github"
      },
      "source": [
        "[![Open In Colab](https://colab.research.google.com/assets/colab-badge.svg)](https://colab.research.google.com/github/camenduru/Video-Infinity-jupyter/blob/main/Video_Infinity_multi_jupyter.ipynb)"
      ]
    },
    {
      "cell_type": "code",
      "execution_count": null,
      "metadata": {
        "id": "VjYy0F2gZIPR"
      },
      "outputs": [],
      "source": [
        "%cd /content\n",
        "!git clone https://github.com/Yuanshi9815/Video-Infinity\n",
        "%cd /content/Video-Infinity\n",
        "\n",
        "!pip install xformers==0.0.26.post1 diffusers==0.27.2 transformers==4.39.3 imageio==2.34.0 imageio-ffmpeg==0.4.9 accelerate==0.29.3\n",
        "\n",
        "!python inference.py --config examples/multi_prompts.json\n"
      ]
    }
  ],
  "metadata": {
    "accelerator": "GPU",
    "colab": {
      "gpuType": "T4",
      "provenance": []
    },
    "kernelspec": {
      "display_name": "Python 3",
      "name": "python3"
    },
    "language_info": {
      "name": "python"
    }
  },
  "nbformat": 4,
  "nbformat_minor": 0
}

{
  "cells": [
    {
      "cell_type": "markdown",
      "metadata": {
        "id": "view-in-github"
      },
      "source": [
        "[![Open In Colab](https://colab.research.google.com/assets/colab-badge.svg)](https://colab.research.google.com/github/camenduru/Video-Infinity-jupyter/blob/main/Video_Infinity_jupyter.ipynb)"
      ]
    },
    {
      "cell_type": "code",
      "execution_count": null,
      "metadata": {
        "id": "VjYy0F2gZIPR"
      },
      "outputs": [],
      "source": [
        "%cd /content\n",
        "!git clone https://github.com/Yuanshi9815/Video-Infinity\n",
        "%cd /content/Video-Infinity\n",
        "\n",
        "!pip install xformers==0.0.26.post1 diffusers==0.27.2 transformers==4.39.3 imageio==2.34.0 imageio-ffmpeg==0.4.9 accelerate==0.29.3\n",
        "\n",
        "# %cd /content/Video-Infinity\n",
        "# !python inference.py --config examples/single_gpu.json\n",
        "\n",
        "import torch\n",
        "from src.video_crafter import VideoCrafterPipeline\n",
        "from src.tools import DistController\n",
        "from src.video_infinity.wrapper import DistWrapper\n",
        "\n",
        "config = {\n",
        "    \"dtype\": \"torch.float16\",\n",
        "    \"devices\": [0,1,2,3],\n",
        "    \"seed\": 123,\n",
        "    \"master_port\": 29516,\n",
        "    \"base_path\": \"./exp\",\n",
        "    \"pipe_configs\":{\n",
        "        \"prompts\": [\n",
        "            \"A beagle wearing diving goggles swimming in the ocean while the camera is moving, coral reefs in the background.\"\n",
        "        ],\n",
        "        \"steps\": 30,\n",
        "        \"guidance_scale\": 12,\n",
        "        \"fps\": 24,\n",
        "        \"num_frames\": 24,\n",
        "        \"height\": 320,\n",
        "        \"width\": 512,  \n",
        "        \"export_fps\": 8,\n",
        "        \"file_name\": None\n",
        "    },\n",
        "    \"plugin_configs\":{\n",
        "        \"attn\":{\n",
        "            \"padding\": 8,\n",
        "            \"top_k\": 16,\n",
        "            \"top_k_chunk_size\": 24,\n",
        "            \"attn_scale\": 1.0,\n",
        "            \"token_num_scale\": False,\n",
        "            \"dynamic_scale\": True,\n",
        "            \"local_phase\": {\n",
        "                \"t\": 800, \n",
        "                \"local_biase\": 10,\n",
        "                \"global_biase\": 0\n",
        "            },\n",
        "            \"global_phase\": {\n",
        "                \"t\": 800,\n",
        "                \"local_biase\": 0,\n",
        "                \"global_biase\": 10\n",
        "            }\n",
        "        },\n",
        "        \"conv_3d\": {\n",
        "            \"padding\": 1\n",
        "        }, \n",
        "        \"conv_layer\": {}\n",
        "    }\n",
        "}\n",
        "\n",
        "with torch.inference_mode():\n",
        "    pipe = VideoCrafterPipeline.from_pretrained('vdo/videocrafterv2_diffusers', torch_dtype=torch.float16)\n",
        "    pipe.enable_model_cpu_offload(gpu_id=0)\n",
        "    pipe.enable_vae_slicing()\n",
        "    pipe_configs=config['pipe_configs']\n",
        "    plugin_configs=config['plugin_configs']\n",
        "    prompt = pipe_configs[\"prompts\"][0]\n",
        "    dist_controller = DistController(0, 1, config)\n",
        "    dist_pipe = DistWrapper(pipe, dist_controller, config)"
      ]
    },
    {
      "cell_type": "code",
      "execution_count": null,
      "metadata": {},
      "outputs": [],
      "source": [
        "config[\"pipe_configs\"][\"prompts\"][0] = \"A majestic octopus gliding gracefully through crystal-clear azure waters. Its tentacles undulate rhythmically as it navigates a vibrant coral reef. Shafts of sunlight pierce the depths, illuminating the octopus's iridescent skin and creating mesmerizing patterns on the ocean floor. Schools of colorful tropical fish dart around the octopus, completing this captivating underwater scene.\"\n",
        "config[\"pipe_configs\"][\"num_frames\"] = 48\n",
        "\n",
        "with torch.inference_mode():\n",
        "    dist_pipe.inference(\n",
        "        prompt,\n",
        "        config,\n",
        "        pipe_configs,\n",
        "        plugin_configs,\n",
        "        additional_info={\n",
        "            \"full_config\": config,\n",
        "        }\n",
        "    )"
      ]
    }
  ],
  "metadata": {
    "accelerator": "GPU",
    "colab": {
      "gpuType": "T4",
      "provenance": []
    },
    "kernelspec": {
      "display_name": "Python 3",
      "name": "python3"
    },
    "language_info": {
      "name": "python"
    }
  },
  "nbformat": 4,
  "nbformat_minor": 0
}
